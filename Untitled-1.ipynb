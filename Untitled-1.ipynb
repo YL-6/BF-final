{
 "cells": [
  {
   "cell_type": "code",
   "execution_count": null,
   "id": "e4b79ae5",
   "metadata": {},
   "outputs": [],
   "source": [
    "import pandas as pd"
   ]
  }
 ],
 "metadata": {
  "kernelspec": {
   "display_name": ".venv",
   "language": "python",
   "name": "python3"
  },
  "language_info": {
   "name": "python",
   "version": "3.10.11"
  }
 },
 "nbformat": 4,
 "nbformat_minor": 5
}
