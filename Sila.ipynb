{
 "cells": [
  {
   "cell_type": "code",
   "id": "initial_id",
   "metadata": {
    "collapsed": true,
    "ExecuteTime": {
     "end_time": "2025-07-10T11:24:30.603901Z",
     "start_time": "2025-07-10T11:24:29.039404Z"
    }
   },
   "source": [
    "import pandas as pd\n",
    "import numpy as np\n",
    "from statsforecast import StatsForecast\n",
    "import matplotlib.pyplot as plt\n",
    "#import seaborn as sns\n",
    "import datetime as dt\n",
    "import os\n",
    "import warnings\n",
    "import matplotlib.dates as mpl_dates\n",
    "from statsmodels.tsa.seasonal import seasonal_decompose\n",
    "import operator\n",
    "from mlforecast import MLForecast\n",
    "from mlforecast.lag_transforms import Combine, RollingMean\n",
    "from sklearn.inspection import permutation_importance\n",
    "from sklearn.ensemble import RandomForestRegressor\n",
    "from statsforecast.models import AutoARIMA, AutoETS, Naive, RandomWalkWithDrift, SeasonalNaive, SeasonalWindowAverage, WindowAverage\n",
    "import utilsforecast.losses as ufl\n",
    "from utilsforecast.evaluation import evaluate\n",
    "\n"
   ],
   "outputs": [
    {
     "name": "stderr",
     "output_type": "stream",
     "text": [
      "/opt/anaconda3/envs/mysampleProject/lib/python3.12/site-packages/tqdm/auto.py:21: TqdmWarning: IProgress not found. Please update jupyter and ipywidgets. See https://ipywidgets.readthedocs.io/en/stable/user_install.html\n",
      "  from .autonotebook import tqdm as notebook_tqdm\n"
     ]
    }
   ],
   "execution_count": 2
  },
  {
   "cell_type": "code",
   "id": "3ab8fc17",
   "metadata": {
    "ExecuteTime": {
     "end_time": "2025-07-09T10:37:46.785534Z",
     "start_time": "2025-07-09T10:37:46.589587Z"
    }
   },
   "source": [
    "#Loading data\n",
    "future_values = pd.read_csv('future_values.csv',parse_dates = ['date']).rename(columns={'date':'ds','store_id':'unique_id'})\n",
    "metadata = pd.read_csv('metadata.csv').rename(columns={'store_id':'unique_id'})\n",
    "sales_data = pd.read_csv('sales_data.csv',parse_dates = ['date']).rename(columns={'date':'ds','store_id':'unique_id','sales':'y'})\n",
    "sales_data.dtypes"
   ],
   "outputs": [
    {
     "name": "stderr",
     "output_type": "stream",
     "text": [
      "/var/folders/gm/_yp4_bjn6l7dvvpx97_5_c0c0000gn/T/ipykernel_52582/3612097706.py:4: DtypeWarning: Columns (6) have mixed types. Specify dtype option on import or set low_memory=False.\n",
      "  sales_data = pd.read_csv('sales_data.csv',parse_dates = ['date']).rename(columns={'date':'ds','store_id':'unique_id','sales':'y'})\n"
     ]
    },
    {
     "data": {
      "text/plain": [
       "unique_id                 object\n",
       "ds                datetime64[ns]\n",
       "y                          int64\n",
       "customers                  int64\n",
       "open                       int64\n",
       "promo                      int64\n",
       "state_holiday             object\n",
       "school_holiday             int64\n",
       "dtype: object"
      ]
     },
     "execution_count": 4,
     "metadata": {},
     "output_type": "execute_result"
    }
   ],
   "execution_count": 4
  },
  {
   "cell_type": "code",
   "id": "a0a9892a",
   "metadata": {
    "ExecuteTime": {
     "end_time": "2025-07-09T10:37:52.010721Z",
     "start_time": "2025-07-09T10:37:51.982906Z"
    }
   },
   "source": [
    "# Grouping data by each time series\n",
    "grouped = sales_data.groupby('unique_id')\n",
    "summary = grouped.agg(\n",
    "    count_observed=('ds', 'count'),\n",
    "    start_date=('ds', 'min'),\n",
    "    end_date=('ds', 'max')\n",
    ").reset_index()\n",
    "print(summary)"
   ],
   "outputs": [
    {
     "name": "stdout",
     "output_type": "stream",
     "text": [
      "     unique_id  count_observed start_date   end_date\n",
      "0      store_1             924 2013-01-07 2015-07-19\n",
      "1     store_10             924 2013-01-07 2015-07-19\n",
      "2    store_100             924 2013-01-07 2015-07-19\n",
      "3    store_101             924 2013-01-07 2015-07-19\n",
      "4    store_102             924 2013-01-07 2015-07-19\n",
      "..         ...             ...        ...        ...\n",
      "671   store_95             924 2013-01-07 2015-07-19\n",
      "672   store_96             924 2013-01-07 2015-07-19\n",
      "673   store_97             924 2013-01-07 2015-07-19\n",
      "674   store_98             924 2013-01-07 2015-07-19\n",
      "675   store_99             924 2013-01-07 2015-07-19\n",
      "\n",
      "[676 rows x 4 columns]\n"
     ]
    }
   ],
   "execution_count": 5
  },
  {
   "cell_type": "code",
   "id": "d7307a57",
   "metadata": {
    "ExecuteTime": {
     "end_time": "2025-07-09T10:37:55.017162Z",
     "start_time": "2025-07-09T10:37:55.004911Z"
    }
   },
   "source": [
    "# Grouping data by each time series\n",
    "grouped = future_values.groupby('unique_id')\n",
    "summary = grouped.agg(\n",
    "    count_observed=('ds', 'count'),\n",
    "    start_date=('ds', 'min'),\n",
    "    end_date=('ds', 'max')\n",
    ").reset_index()\n",
    "print(summary)"
   ],
   "outputs": [
    {
     "name": "stdout",
     "output_type": "stream",
     "text": [
      "     unique_id  count_observed start_date   end_date\n",
      "0      store_1              60 2015-07-20 2015-09-17\n",
      "1     store_10              60 2015-07-20 2015-09-17\n",
      "2    store_100              60 2015-07-20 2015-09-17\n",
      "3    store_101              60 2015-07-20 2015-09-17\n",
      "4    store_102              60 2015-07-20 2015-09-17\n",
      "..         ...             ...        ...        ...\n",
      "671   store_95              60 2015-07-20 2015-09-17\n",
      "672   store_96              60 2015-07-20 2015-09-17\n",
      "673   store_97              60 2015-07-20 2015-09-17\n",
      "674   store_98              60 2015-07-20 2015-09-17\n",
      "675   store_99              60 2015-07-20 2015-09-17\n",
      "\n",
      "[676 rows x 4 columns]\n"
     ]
    }
   ],
   "execution_count": 6
  },
  {
   "cell_type": "code",
   "id": "36ee0a2b",
   "metadata": {
    "ExecuteTime": {
     "end_time": "2025-07-10T11:23:56.294124Z",
     "start_time": "2025-07-10T11:23:56.159855Z"
    }
   },
   "source": [
    "#Checking na \n",
    "future_values.isna ().sum ()\n",
    "metadata.isna ().sum ()\n",
    "sales_data.isna().sum()"
   ],
   "outputs": [
    {
     "ename": "NameError",
     "evalue": "name 'future_values' is not defined",
     "output_type": "error",
     "traceback": [
      "\u001B[0;31m---------------------------------------------------------------------------\u001B[0m",
      "\u001B[0;31mNameError\u001B[0m                                 Traceback (most recent call last)",
      "Cell \u001B[0;32mIn[1], line 2\u001B[0m\n\u001B[1;32m      1\u001B[0m \u001B[38;5;66;03m#Checking na \u001B[39;00m\n\u001B[0;32m----> 2\u001B[0m future_values\u001B[38;5;241m.\u001B[39misna ()\u001B[38;5;241m.\u001B[39msum ()\n\u001B[1;32m      3\u001B[0m metadata\u001B[38;5;241m.\u001B[39misna ()\u001B[38;5;241m.\u001B[39msum ()\n\u001B[1;32m      4\u001B[0m sales_data\u001B[38;5;241m.\u001B[39misna()\u001B[38;5;241m.\u001B[39msum()\n",
      "\u001B[0;31mNameError\u001B[0m: name 'future_values' is not defined"
     ]
    }
   ],
   "execution_count": 1
  },
  {
   "cell_type": "code",
   "id": "1cb76563",
   "metadata": {
    "ExecuteTime": {
     "end_time": "2025-07-09T10:38:00.204977Z",
     "start_time": "2025-07-09T10:38:00.154573Z"
    }
   },
   "source": [
    "sales_merged = pd.merge(sales_data, metadata, on='unique_id', how='left')\n",
    "sales_merged.head()"
   ],
   "outputs": [
    {
     "data": {
      "text/plain": [
       "  unique_id         ds  y  customers  open  promo state_holiday  \\\n",
       "0   store_1 2015-07-19  0          0     0      0             0   \n",
       "1   store_2 2015-07-19  0          0     0      0             0   \n",
       "2   store_3 2015-07-19  0          0     0      0             0   \n",
       "3   store_4 2015-07-19  0          0     0      0             0   \n",
       "4   store_5 2015-07-19  0          0     0      0             0   \n",
       "\n",
       "   school_holiday store_type assortment  competition_distance  \n",
       "0               0          c          a                1270.0  \n",
       "1               0          a          a               14130.0  \n",
       "2               0          a          c               24000.0  \n",
       "3               0          a          a                7520.0  \n",
       "4               0          a          c                2030.0  "
      ],
      "text/html": [
       "<div>\n",
       "<style scoped>\n",
       "    .dataframe tbody tr th:only-of-type {\n",
       "        vertical-align: middle;\n",
       "    }\n",
       "\n",
       "    .dataframe tbody tr th {\n",
       "        vertical-align: top;\n",
       "    }\n",
       "\n",
       "    .dataframe thead th {\n",
       "        text-align: right;\n",
       "    }\n",
       "</style>\n",
       "<table border=\"1\" class=\"dataframe\">\n",
       "  <thead>\n",
       "    <tr style=\"text-align: right;\">\n",
       "      <th></th>\n",
       "      <th>unique_id</th>\n",
       "      <th>ds</th>\n",
       "      <th>y</th>\n",
       "      <th>customers</th>\n",
       "      <th>open</th>\n",
       "      <th>promo</th>\n",
       "      <th>state_holiday</th>\n",
       "      <th>school_holiday</th>\n",
       "      <th>store_type</th>\n",
       "      <th>assortment</th>\n",
       "      <th>competition_distance</th>\n",
       "    </tr>\n",
       "  </thead>\n",
       "  <tbody>\n",
       "    <tr>\n",
       "      <th>0</th>\n",
       "      <td>store_1</td>\n",
       "      <td>2015-07-19</td>\n",
       "      <td>0</td>\n",
       "      <td>0</td>\n",
       "      <td>0</td>\n",
       "      <td>0</td>\n",
       "      <td>0</td>\n",
       "      <td>0</td>\n",
       "      <td>c</td>\n",
       "      <td>a</td>\n",
       "      <td>1270.0</td>\n",
       "    </tr>\n",
       "    <tr>\n",
       "      <th>1</th>\n",
       "      <td>store_2</td>\n",
       "      <td>2015-07-19</td>\n",
       "      <td>0</td>\n",
       "      <td>0</td>\n",
       "      <td>0</td>\n",
       "      <td>0</td>\n",
       "      <td>0</td>\n",
       "      <td>0</td>\n",
       "      <td>a</td>\n",
       "      <td>a</td>\n",
       "      <td>14130.0</td>\n",
       "    </tr>\n",
       "    <tr>\n",
       "      <th>2</th>\n",
       "      <td>store_3</td>\n",
       "      <td>2015-07-19</td>\n",
       "      <td>0</td>\n",
       "      <td>0</td>\n",
       "      <td>0</td>\n",
       "      <td>0</td>\n",
       "      <td>0</td>\n",
       "      <td>0</td>\n",
       "      <td>a</td>\n",
       "      <td>c</td>\n",
       "      <td>24000.0</td>\n",
       "    </tr>\n",
       "    <tr>\n",
       "      <th>3</th>\n",
       "      <td>store_4</td>\n",
       "      <td>2015-07-19</td>\n",
       "      <td>0</td>\n",
       "      <td>0</td>\n",
       "      <td>0</td>\n",
       "      <td>0</td>\n",
       "      <td>0</td>\n",
       "      <td>0</td>\n",
       "      <td>a</td>\n",
       "      <td>a</td>\n",
       "      <td>7520.0</td>\n",
       "    </tr>\n",
       "    <tr>\n",
       "      <th>4</th>\n",
       "      <td>store_5</td>\n",
       "      <td>2015-07-19</td>\n",
       "      <td>0</td>\n",
       "      <td>0</td>\n",
       "      <td>0</td>\n",
       "      <td>0</td>\n",
       "      <td>0</td>\n",
       "      <td>0</td>\n",
       "      <td>a</td>\n",
       "      <td>c</td>\n",
       "      <td>2030.0</td>\n",
       "    </tr>\n",
       "  </tbody>\n",
       "</table>\n",
       "</div>"
      ]
     },
     "execution_count": 8,
     "metadata": {},
     "output_type": "execute_result"
    }
   ],
   "execution_count": 8
  },
  {
   "cell_type": "code",
   "id": "723051fd",
   "metadata": {
    "ExecuteTime": {
     "end_time": "2025-07-09T10:44:41.684885Z",
     "start_time": "2025-07-09T10:44:41.551203Z"
    }
   },
   "source": [
    "sales_merged['ds'] = pd.to_datetime(sales_merged['ds'])\n",
    "\n",
    "# Create a new column \"week\"\n",
    "sales_merged['week'] = sales_merged['ds'].dt.to_period('W-MON').dt.start_time\n",
    "\n",
    "# Aggregate by store_id and week and take the sum\n",
    "weekly_data = sales_merged.groupby(['unique_id', 'week'], as_index=False).agg({\n",
    "    'y': 'sum',\n",
    "    'customers': 'sum',\n",
    "    'promo': 'sum',\n",
    "    'open': 'sum',\n",
    "    'school_holiday': 'sum',\n",
    "    'store_type': 'first',\n",
    "    'assortment': 'first',\n",
    "    'competition_distance': 'first'\n",
    "})"
   ],
   "outputs": [],
   "execution_count": 12
  },
  {
   "metadata": {
    "ExecuteTime": {
     "end_time": "2025-07-09T10:54:20.669246Z",
     "start_time": "2025-07-09T10:54:20.483431Z"
    }
   },
   "cell_type": "code",
   "source": [
    "# 确保 state_holiday 是字符串类型\n",
    "sales_merged['state_holiday'] = sales_merged['state_holiday'].astype(str)\n",
    "\n",
    "# 创建 one-hot 编码列，例如：state_holiday_a, state_holiday_b, ...\n",
    "state_holiday_dummies = pd.get_dummies(sales_merged['state_holiday'], prefix='state_holiday')\n",
    "\n",
    "# 拼接到原始数据\n",
    "sales_merged = pd.concat([sales_merged, state_holiday_dummies], axis=1)\n",
    "\n",
    "# 按 store_id 和 week 对 one-hot 编码列求和\n",
    "holiday_weekly = sales_merged.groupby(['unique_id', 'week'], as_index=False)[\n",
    "    [col for col in state_holiday_dummies.columns]\n",
    "].sum()\n",
    "\n",
    "# 合并计数后的 holiday 列\n",
    "weekly_data = pd.merge(weekly_data, holiday_weekly, on=['unique_id', 'week'], how='left')\n",
    "\n",
    "weekly_data"
   ],
   "id": "7bfd17ceb3c63af3",
   "outputs": [
    {
     "ename": "MergeError",
     "evalue": "Passing 'suffixes' which cause duplicate columns {'state_holiday_c_x', 'state_holiday_b_x', 'state_holiday_a_x', 'state_holiday_0_x'} is not allowed.",
     "output_type": "error",
     "traceback": [
      "\u001B[0;31m---------------------------------------------------------------------------\u001B[0m",
      "\u001B[0;31mMergeError\u001B[0m                                Traceback (most recent call last)",
      "Cell \u001B[0;32mIn[19], line 16\u001B[0m\n\u001B[1;32m     11\u001B[0m holiday_weekly \u001B[38;5;241m=\u001B[39m sales_merged\u001B[38;5;241m.\u001B[39mgroupby([\u001B[38;5;124m'\u001B[39m\u001B[38;5;124munique_id\u001B[39m\u001B[38;5;124m'\u001B[39m, \u001B[38;5;124m'\u001B[39m\u001B[38;5;124mweek\u001B[39m\u001B[38;5;124m'\u001B[39m], as_index\u001B[38;5;241m=\u001B[39m\u001B[38;5;28;01mFalse\u001B[39;00m)[\n\u001B[1;32m     12\u001B[0m     [col \u001B[38;5;28;01mfor\u001B[39;00m col \u001B[38;5;129;01min\u001B[39;00m state_holiday_dummies\u001B[38;5;241m.\u001B[39mcolumns]\n\u001B[1;32m     13\u001B[0m ]\u001B[38;5;241m.\u001B[39msum()\n\u001B[1;32m     15\u001B[0m \u001B[38;5;66;03m# 合并计数后的 holiday 列\u001B[39;00m\n\u001B[0;32m---> 16\u001B[0m weekly_data \u001B[38;5;241m=\u001B[39m pd\u001B[38;5;241m.\u001B[39mmerge(weekly_data, holiday_weekly, on\u001B[38;5;241m=\u001B[39m[\u001B[38;5;124m'\u001B[39m\u001B[38;5;124munique_id\u001B[39m\u001B[38;5;124m'\u001B[39m, \u001B[38;5;124m'\u001B[39m\u001B[38;5;124mweek\u001B[39m\u001B[38;5;124m'\u001B[39m], how\u001B[38;5;241m=\u001B[39m\u001B[38;5;124m'\u001B[39m\u001B[38;5;124mleft\u001B[39m\u001B[38;5;124m'\u001B[39m)\n\u001B[1;32m     18\u001B[0m weekly_data\n",
      "File \u001B[0;32m/opt/anaconda3/envs/mysampleProject/lib/python3.12/site-packages/pandas/core/reshape/merge.py:184\u001B[0m, in \u001B[0;36mmerge\u001B[0;34m(left, right, how, on, left_on, right_on, left_index, right_index, sort, suffixes, copy, indicator, validate)\u001B[0m\n\u001B[1;32m    169\u001B[0m \u001B[38;5;28;01melse\u001B[39;00m:\n\u001B[1;32m    170\u001B[0m     op \u001B[38;5;241m=\u001B[39m _MergeOperation(\n\u001B[1;32m    171\u001B[0m         left_df,\n\u001B[1;32m    172\u001B[0m         right_df,\n\u001B[0;32m   (...)\u001B[0m\n\u001B[1;32m    182\u001B[0m         validate\u001B[38;5;241m=\u001B[39mvalidate,\n\u001B[1;32m    183\u001B[0m     )\n\u001B[0;32m--> 184\u001B[0m     \u001B[38;5;28;01mreturn\u001B[39;00m op\u001B[38;5;241m.\u001B[39mget_result(copy\u001B[38;5;241m=\u001B[39mcopy)\n",
      "File \u001B[0;32m/opt/anaconda3/envs/mysampleProject/lib/python3.12/site-packages/pandas/core/reshape/merge.py:888\u001B[0m, in \u001B[0;36m_MergeOperation.get_result\u001B[0;34m(self, copy)\u001B[0m\n\u001B[1;32m    884\u001B[0m     \u001B[38;5;28mself\u001B[39m\u001B[38;5;241m.\u001B[39mleft, \u001B[38;5;28mself\u001B[39m\u001B[38;5;241m.\u001B[39mright \u001B[38;5;241m=\u001B[39m \u001B[38;5;28mself\u001B[39m\u001B[38;5;241m.\u001B[39m_indicator_pre_merge(\u001B[38;5;28mself\u001B[39m\u001B[38;5;241m.\u001B[39mleft, \u001B[38;5;28mself\u001B[39m\u001B[38;5;241m.\u001B[39mright)\n\u001B[1;32m    886\u001B[0m join_index, left_indexer, right_indexer \u001B[38;5;241m=\u001B[39m \u001B[38;5;28mself\u001B[39m\u001B[38;5;241m.\u001B[39m_get_join_info()\n\u001B[0;32m--> 888\u001B[0m result \u001B[38;5;241m=\u001B[39m \u001B[38;5;28mself\u001B[39m\u001B[38;5;241m.\u001B[39m_reindex_and_concat(\n\u001B[1;32m    889\u001B[0m     join_index, left_indexer, right_indexer, copy\u001B[38;5;241m=\u001B[39mcopy\n\u001B[1;32m    890\u001B[0m )\n\u001B[1;32m    891\u001B[0m result \u001B[38;5;241m=\u001B[39m result\u001B[38;5;241m.\u001B[39m__finalize__(\u001B[38;5;28mself\u001B[39m, method\u001B[38;5;241m=\u001B[39m\u001B[38;5;28mself\u001B[39m\u001B[38;5;241m.\u001B[39m_merge_type)\n\u001B[1;32m    893\u001B[0m \u001B[38;5;28;01mif\u001B[39;00m \u001B[38;5;28mself\u001B[39m\u001B[38;5;241m.\u001B[39mindicator:\n",
      "File \u001B[0;32m/opt/anaconda3/envs/mysampleProject/lib/python3.12/site-packages/pandas/core/reshape/merge.py:840\u001B[0m, in \u001B[0;36m_MergeOperation._reindex_and_concat\u001B[0;34m(self, join_index, left_indexer, right_indexer, copy)\u001B[0m\n\u001B[1;32m    837\u001B[0m left \u001B[38;5;241m=\u001B[39m \u001B[38;5;28mself\u001B[39m\u001B[38;5;241m.\u001B[39mleft[:]\n\u001B[1;32m    838\u001B[0m right \u001B[38;5;241m=\u001B[39m \u001B[38;5;28mself\u001B[39m\u001B[38;5;241m.\u001B[39mright[:]\n\u001B[0;32m--> 840\u001B[0m llabels, rlabels \u001B[38;5;241m=\u001B[39m _items_overlap_with_suffix(\n\u001B[1;32m    841\u001B[0m     \u001B[38;5;28mself\u001B[39m\u001B[38;5;241m.\u001B[39mleft\u001B[38;5;241m.\u001B[39m_info_axis, \u001B[38;5;28mself\u001B[39m\u001B[38;5;241m.\u001B[39mright\u001B[38;5;241m.\u001B[39m_info_axis, \u001B[38;5;28mself\u001B[39m\u001B[38;5;241m.\u001B[39msuffixes\n\u001B[1;32m    842\u001B[0m )\n\u001B[1;32m    844\u001B[0m \u001B[38;5;28;01mif\u001B[39;00m left_indexer \u001B[38;5;129;01mis\u001B[39;00m \u001B[38;5;129;01mnot\u001B[39;00m \u001B[38;5;28;01mNone\u001B[39;00m \u001B[38;5;129;01mand\u001B[39;00m \u001B[38;5;129;01mnot\u001B[39;00m is_range_indexer(left_indexer, \u001B[38;5;28mlen\u001B[39m(left)):\n\u001B[1;32m    845\u001B[0m     \u001B[38;5;66;03m# Pinning the index here (and in the right code just below) is not\u001B[39;00m\n\u001B[1;32m    846\u001B[0m     \u001B[38;5;66;03m#  necessary, but makes the `.take` more performant if we have e.g.\u001B[39;00m\n\u001B[1;32m    847\u001B[0m     \u001B[38;5;66;03m#  a MultiIndex for left.index.\u001B[39;00m\n\u001B[1;32m    848\u001B[0m     lmgr \u001B[38;5;241m=\u001B[39m left\u001B[38;5;241m.\u001B[39m_mgr\u001B[38;5;241m.\u001B[39mreindex_indexer(\n\u001B[1;32m    849\u001B[0m         join_index,\n\u001B[1;32m    850\u001B[0m         left_indexer,\n\u001B[0;32m   (...)\u001B[0m\n\u001B[1;32m    855\u001B[0m         use_na_proxy\u001B[38;5;241m=\u001B[39m\u001B[38;5;28;01mTrue\u001B[39;00m,\n\u001B[1;32m    856\u001B[0m     )\n",
      "File \u001B[0;32m/opt/anaconda3/envs/mysampleProject/lib/python3.12/site-packages/pandas/core/reshape/merge.py:2757\u001B[0m, in \u001B[0;36m_items_overlap_with_suffix\u001B[0;34m(left, right, suffixes)\u001B[0m\n\u001B[1;32m   2755\u001B[0m     dups\u001B[38;5;241m.\u001B[39mextend(rlabels[(rlabels\u001B[38;5;241m.\u001B[39mduplicated()) \u001B[38;5;241m&\u001B[39m (\u001B[38;5;241m~\u001B[39mright\u001B[38;5;241m.\u001B[39mduplicated())]\u001B[38;5;241m.\u001B[39mtolist())\n\u001B[1;32m   2756\u001B[0m \u001B[38;5;28;01mif\u001B[39;00m dups:\n\u001B[0;32m-> 2757\u001B[0m     \u001B[38;5;28;01mraise\u001B[39;00m MergeError(\n\u001B[1;32m   2758\u001B[0m         \u001B[38;5;124mf\u001B[39m\u001B[38;5;124m\"\u001B[39m\u001B[38;5;124mPassing \u001B[39m\u001B[38;5;124m'\u001B[39m\u001B[38;5;124msuffixes\u001B[39m\u001B[38;5;124m'\u001B[39m\u001B[38;5;124m which cause duplicate columns \u001B[39m\u001B[38;5;132;01m{\u001B[39;00m\u001B[38;5;28mset\u001B[39m(dups)\u001B[38;5;132;01m}\u001B[39;00m\u001B[38;5;124m is \u001B[39m\u001B[38;5;124m\"\u001B[39m\n\u001B[1;32m   2759\u001B[0m         \u001B[38;5;124mf\u001B[39m\u001B[38;5;124m\"\u001B[39m\u001B[38;5;124mnot allowed.\u001B[39m\u001B[38;5;124m\"\u001B[39m,\n\u001B[1;32m   2760\u001B[0m     )\n\u001B[1;32m   2762\u001B[0m \u001B[38;5;28;01mreturn\u001B[39;00m llabels, rlabels\n",
      "\u001B[0;31mMergeError\u001B[0m: Passing 'suffixes' which cause duplicate columns {'state_holiday_c_x', 'state_holiday_b_x', 'state_holiday_a_x', 'state_holiday_0_x'} is not allowed."
     ]
    }
   ],
   "execution_count": 19
  }
 ],
 "metadata": {
  "kernelspec": {
   "display_name": ".venv",
   "language": "python",
   "name": "python3"
  },
  "language_info": {
   "codemirror_mode": {
    "name": "ipython",
    "version": 3
   },
   "file_extension": ".py",
   "mimetype": "text/x-python",
   "name": "python",
   "nbconvert_exporter": "python",
   "pygments_lexer": "ipython3",
   "version": "3.10.11"
  }
 },
 "nbformat": 4,
 "nbformat_minor": 5
}
